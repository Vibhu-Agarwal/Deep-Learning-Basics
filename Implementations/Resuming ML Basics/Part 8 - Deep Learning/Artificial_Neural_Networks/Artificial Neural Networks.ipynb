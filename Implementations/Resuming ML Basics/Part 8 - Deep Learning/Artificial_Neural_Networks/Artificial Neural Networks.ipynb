{
 "cells": [
  {
   "cell_type": "markdown",
   "metadata": {
    "heading_collapsed": true
   },
   "source": [
    "# Data Preprocessing"
   ]
  },
  {
   "cell_type": "code",
   "execution_count": 1,
   "metadata": {
    "ExecuteTime": {
     "end_time": "2019-01-17T07:20:20.147978Z",
     "start_time": "2019-01-17T07:20:18.326534Z"
    },
    "hidden": true,
    "init_cell": true
   },
   "outputs": [],
   "source": [
    "import numpy as np\n",
    "import matplotlib.pyplot as plt\n",
    "import pandas as pd"
   ]
  },
  {
   "cell_type": "code",
   "execution_count": 2,
   "metadata": {
    "ExecuteTime": {
     "end_time": "2019-01-17T07:20:20.239919Z",
     "start_time": "2019-01-17T07:20:20.151539Z"
    },
    "hidden": true,
    "init_cell": true
   },
   "outputs": [],
   "source": [
    "dataset = pd.read_csv('Churn_Modelling.csv')"
   ]
  },
  {
   "cell_type": "code",
   "execution_count": 3,
   "metadata": {
    "ExecuteTime": {
     "end_time": "2019-01-17T07:20:20.291309Z",
     "start_time": "2019-01-17T07:20:20.241434Z"
    },
    "hidden": true,
    "init_cell": true
   },
   "outputs": [],
   "source": [
    "X = dataset.iloc[:,6:13]\n",
    "X = pd.concat([X,dataset.CreditScore],axis=1)\n",
    "y = dataset.iloc[:, -1]"
   ]
  },
  {
   "cell_type": "code",
   "execution_count": null,
   "metadata": {
    "ExecuteTime": {
     "end_time": "2019-01-17T06:20:59.575821Z",
     "start_time": "2019-01-17T06:20:59.561709Z"
    },
    "hidden": true,
    "scrolled": true
   },
   "outputs": [],
   "source": [
    "dataset.columns"
   ]
  },
  {
   "cell_type": "code",
   "execution_count": 4,
   "metadata": {
    "ExecuteTime": {
     "end_time": "2019-01-17T07:20:20.439493Z",
     "start_time": "2019-01-17T07:20:20.297292Z"
    },
    "hidden": true,
    "init_cell": true
   },
   "outputs": [],
   "source": [
    "def encode(series, df=None):\n",
    "    cols = pd.get_dummies(series.astype(str))\n",
    "    if df is not None:\n",
    "        df = pd.concat([df,cols],axis=1)\n",
    "        return df\n",
    "    return series"
   ]
  },
  {
   "cell_type": "code",
   "execution_count": 5,
   "metadata": {
    "ExecuteTime": {
     "end_time": "2019-01-17T07:20:20.599083Z",
     "start_time": "2019-01-17T07:20:20.447525Z"
    },
    "hidden": true,
    "init_cell": true
   },
   "outputs": [],
   "source": [
    "X = encode(dataset.Geography,X)\n",
    "X = encode(dataset.Gender,X)\n",
    "X = X.drop(['France','Female'], axis=1)"
   ]
  },
  {
   "cell_type": "code",
   "execution_count": 6,
   "metadata": {
    "ExecuteTime": {
     "end_time": "2019-01-17T07:20:21.669225Z",
     "start_time": "2019-01-17T07:20:20.602391Z"
    },
    "hidden": true,
    "init_cell": true
   },
   "outputs": [],
   "source": [
    "from sklearn.model_selection import train_test_split\n",
    "X_train, X_test, y_train, y_test = train_test_split(X.values, y.values, test_size=0.2, random_state = 0)"
   ]
  },
  {
   "cell_type": "code",
   "execution_count": 7,
   "metadata": {
    "ExecuteTime": {
     "end_time": "2019-01-17T07:22:57.175428Z",
     "start_time": "2019-01-17T07:22:57.158115Z"
    },
    "hidden": true
   },
   "outputs": [],
   "source": [
    "from sklearn.preprocessing import StandardScaler\n",
    "sc_X = StandardScaler()\n",
    "X_train = sc_X.fit_transform(X_train)\n",
    "X_test = sc_X.transform(X_test)"
   ]
  },
  {
   "cell_type": "code",
   "execution_count": null,
   "metadata": {
    "ExecuteTime": {
     "end_time": "2019-01-17T07:23:09.674432Z",
     "start_time": "2019-01-17T07:23:09.647192Z"
    },
    "hidden": true
   },
   "outputs": [],
   "source": [
    "X_train"
   ]
  },
  {
   "cell_type": "markdown",
   "metadata": {
    "heading_collapsed": true
   },
   "source": [
    "# Implementing Neural Networks"
   ]
  },
  {
   "cell_type": "markdown",
   "metadata": {
    "heading_collapsed": true,
    "hidden": true
   },
   "source": [
    "## Importing Libraries"
   ]
  },
  {
   "cell_type": "code",
   "execution_count": 9,
   "metadata": {
    "ExecuteTime": {
     "end_time": "2019-01-17T07:25:19.048970Z",
     "start_time": "2019-01-17T07:25:12.972305Z"
    },
    "hidden": true
   },
   "outputs": [
    {
     "name": "stderr",
     "output_type": "stream",
     "text": [
      "Using TensorFlow backend.\n"
     ]
    }
   ],
   "source": [
    "import keras"
   ]
  },
  {
   "cell_type": "code",
   "execution_count": 10,
   "metadata": {
    "ExecuteTime": {
     "end_time": "2019-01-17T07:26:38.258533Z",
     "start_time": "2019-01-17T07:26:38.250968Z"
    },
    "hidden": true
   },
   "outputs": [],
   "source": [
    "from keras.models import Sequential\n",
    "from keras.layers import Dense"
   ]
  },
  {
   "cell_type": "markdown",
   "metadata": {
    "heading_collapsed": true,
    "hidden": true
   },
   "source": [
    "## Initializing the ANN"
   ]
  },
  {
   "cell_type": "code",
   "execution_count": 11,
   "metadata": {
    "ExecuteTime": {
     "end_time": "2019-01-17T07:27:55.290628Z",
     "start_time": "2019-01-17T07:27:55.261109Z"
    },
    "hidden": true
   },
   "outputs": [],
   "source": [
    "classifier = Sequential()"
   ]
  },
  {
   "cell_type": "markdown",
   "metadata": {
    "heading_collapsed": true,
    "hidden": true
   },
   "source": [
    "## Adding Layers"
   ]
  },
  {
   "cell_type": "markdown",
   "metadata": {
    "hidden": true
   },
   "source": [
    "### Input Layer and First Hidden Layer"
   ]
  },
  {
   "cell_type": "code",
   "execution_count": 12,
   "metadata": {
    "ExecuteTime": {
     "end_time": "2019-01-17T07:42:08.787578Z",
     "start_time": "2019-01-17T07:42:08.755345Z"
    },
    "hidden": true
   },
   "outputs": [],
   "source": [
    "classifier.add(Dense(6, kernel_initializer='uniform', activation='relu', input_shape=(11,)))"
   ]
  },
  {
   "cell_type": "markdown",
   "metadata": {
    "hidden": true
   },
   "source": [
    "### Second Hidden Layer"
   ]
  },
  {
   "cell_type": "code",
   "execution_count": 13,
   "metadata": {
    "ExecuteTime": {
     "end_time": "2019-01-17T07:44:53.895286Z",
     "start_time": "2019-01-17T07:44:53.858184Z"
    },
    "hidden": true
   },
   "outputs": [],
   "source": [
    "classifier.add(Dense(6, kernel_initializer='uniform', activation='relu'))"
   ]
  },
  {
   "cell_type": "markdown",
   "metadata": {
    "hidden": true
   },
   "source": [
    "### Adding Output Layer"
   ]
  },
  {
   "cell_type": "code",
   "execution_count": 14,
   "metadata": {
    "ExecuteTime": {
     "end_time": "2019-01-17T07:46:51.410778Z",
     "start_time": "2019-01-17T07:46:51.373891Z"
    },
    "hidden": true
   },
   "outputs": [],
   "source": [
    "classifier.add(Dense(1, kernel_initializer='uniform', activation='sigmoid'))"
   ]
  },
  {
   "cell_type": "markdown",
   "metadata": {
    "heading_collapsed": true,
    "hidden": true
   },
   "source": [
    "## Compiling the ANN"
   ]
  },
  {
   "cell_type": "code",
   "execution_count": 15,
   "metadata": {
    "ExecuteTime": {
     "end_time": "2019-01-17T08:01:03.659782Z",
     "start_time": "2019-01-17T08:01:03.575935Z"
    },
    "hidden": true
   },
   "outputs": [],
   "source": [
    "classifier.compile(optimizer='adam', loss='binary_crossentropy', metrics=['accuracy'])"
   ]
  },
  {
   "cell_type": "markdown",
   "metadata": {
    "heading_collapsed": true,
    "hidden": true
   },
   "source": [
    "## Fitting ANN to Training Set"
   ]
  },
  {
   "cell_type": "code",
   "execution_count": 16,
   "metadata": {
    "ExecuteTime": {
     "end_time": "2019-01-17T08:06:43.953158Z",
     "start_time": "2019-01-17T08:05:22.925398Z"
    },
    "hidden": true
   },
   "outputs": [
    {
     "name": "stdout",
     "output_type": "stream",
     "text": [
      "Epoch 1/100\n",
      "8000/8000 [==============================] - 1s 126us/step - loss: 0.4832 - acc: 0.7959\n",
      "Epoch 2/100\n",
      "8000/8000 [==============================] - 1s 96us/step - loss: 0.4276 - acc: 0.7960\n",
      "Epoch 3/100\n",
      "8000/8000 [==============================] - 1s 104us/step - loss: 0.4218 - acc: 0.7999\n",
      "Epoch 4/100\n",
      "8000/8000 [==============================] - 1s 92us/step - loss: 0.4177 - acc: 0.8225\n",
      "Epoch 5/100\n",
      "8000/8000 [==============================] - 1s 92us/step - loss: 0.4160 - acc: 0.8272\n",
      "Epoch 6/100\n",
      "8000/8000 [==============================] - 1s 99us/step - loss: 0.4136 - acc: 0.8301\n",
      "Epoch 7/100\n",
      "8000/8000 [==============================] - 1s 97us/step - loss: 0.4126 - acc: 0.8310\n",
      "Epoch 8/100\n",
      "8000/8000 [==============================] - 1s 97us/step - loss: 0.4113 - acc: 0.8329\n",
      "Epoch 9/100\n",
      "8000/8000 [==============================] - 1s 103us/step - loss: 0.4104 - acc: 0.8345\n",
      "Epoch 10/100\n",
      "8000/8000 [==============================] - 1s 96us/step - loss: 0.4096 - acc: 0.8344\n",
      "Epoch 11/100\n",
      "8000/8000 [==============================] - 1s 103us/step - loss: 0.4086 - acc: 0.8357\n",
      "Epoch 12/100\n",
      "8000/8000 [==============================] - 1s 105us/step - loss: 0.4078 - acc: 0.8357\n",
      "Epoch 13/100\n",
      "8000/8000 [==============================] - 1s 98us/step - loss: 0.4075 - acc: 0.8344\n",
      "Epoch 14/100\n",
      "8000/8000 [==============================] - 1s 100us/step - loss: 0.4072 - acc: 0.8329\n",
      "Epoch 15/100\n",
      "8000/8000 [==============================] - 1s 103us/step - loss: 0.4067 - acc: 0.8357\n",
      "Epoch 16/100\n",
      "8000/8000 [==============================] - 1s 104us/step - loss: 0.4055 - acc: 0.8354\n",
      "Epoch 17/100\n",
      "8000/8000 [==============================] - 1s 95us/step - loss: 0.4059 - acc: 0.8357\n",
      "Epoch 18/100\n",
      "8000/8000 [==============================] - 1s 102us/step - loss: 0.4058 - acc: 0.8341\n",
      "Epoch 19/100\n",
      "8000/8000 [==============================] - 1s 108us/step - loss: 0.4054 - acc: 0.8341\n",
      "Epoch 20/100\n",
      "8000/8000 [==============================] - 1s 96us/step - loss: 0.4049 - acc: 0.8349\n",
      "Epoch 21/100\n",
      "8000/8000 [==============================] - 1s 96us/step - loss: 0.4051 - acc: 0.8356\n",
      "Epoch 22/100\n",
      "8000/8000 [==============================] - 1s 95us/step - loss: 0.4047 - acc: 0.8346\n",
      "Epoch 23/100\n",
      "8000/8000 [==============================] - 1s 99us/step - loss: 0.4042 - acc: 0.8349\n",
      "Epoch 24/100\n",
      "8000/8000 [==============================] - 1s 99us/step - loss: 0.4031 - acc: 0.8359\n",
      "Epoch 25/100\n",
      "8000/8000 [==============================] - 1s 97us/step - loss: 0.4020 - acc: 0.8361\n",
      "Epoch 26/100\n",
      "8000/8000 [==============================] - 1s 101us/step - loss: 0.4007 - acc: 0.8360\n",
      "Epoch 27/100\n",
      "8000/8000 [==============================] - 1s 104us/step - loss: 0.4006 - acc: 0.8347\n",
      "Epoch 28/100\n",
      "8000/8000 [==============================] - 1s 96us/step - loss: 0.4000 - acc: 0.8352\n",
      "Epoch 29/100\n",
      "8000/8000 [==============================] - 1s 103us/step - loss: 0.3994 - acc: 0.8367\n",
      "Epoch 30/100\n",
      "8000/8000 [==============================] - 1s 106us/step - loss: 0.3989 - acc: 0.8349\n",
      "Epoch 31/100\n",
      "8000/8000 [==============================] - 1s 99us/step - loss: 0.3990 - acc: 0.8367\n",
      "Epoch 32/100\n",
      "8000/8000 [==============================] - 1s 100us/step - loss: 0.3985 - acc: 0.8345\n",
      "Epoch 33/100\n",
      "8000/8000 [==============================] - 1s 105us/step - loss: 0.3983 - acc: 0.8359\n",
      "Epoch 34/100\n",
      "8000/8000 [==============================] - 1s 98us/step - loss: 0.3972 - acc: 0.8355\n",
      "Epoch 35/100\n",
      "8000/8000 [==============================] - 1s 94us/step - loss: 0.3971 - acc: 0.8355\n",
      "Epoch 36/100\n",
      "8000/8000 [==============================] - 1s 96us/step - loss: 0.3975 - acc: 0.8351\n",
      "Epoch 37/100\n",
      "8000/8000 [==============================] - 1s 103us/step - loss: 0.3971 - acc: 0.8354\n",
      "Epoch 38/100\n",
      "8000/8000 [==============================] - 1s 96us/step - loss: 0.3969 - acc: 0.8362\n",
      "Epoch 39/100\n",
      "8000/8000 [==============================] - 1s 96us/step - loss: 0.3965 - acc: 0.8359\n",
      "Epoch 40/100\n",
      "8000/8000 [==============================] - 1s 97us/step - loss: 0.3968 - acc: 0.8347\n",
      "Epoch 41/100\n",
      "8000/8000 [==============================] - 1s 115us/step - loss: 0.3967 - acc: 0.8359\n",
      "Epoch 42/100\n",
      "8000/8000 [==============================] - 1s 103us/step - loss: 0.3965 - acc: 0.8357\n",
      "Epoch 43/100\n",
      "8000/8000 [==============================] - 1s 96us/step - loss: 0.3963 - acc: 0.8344\n",
      "Epoch 44/100\n",
      "8000/8000 [==============================] - 1s 100us/step - loss: 0.3966 - acc: 0.8355\n",
      "Epoch 45/100\n",
      "8000/8000 [==============================] - 1s 99us/step - loss: 0.3962 - acc: 0.8342\n",
      "Epoch 46/100\n",
      "8000/8000 [==============================] - 1s 101us/step - loss: 0.3961 - acc: 0.8360\n",
      "Epoch 47/100\n",
      "8000/8000 [==============================] - 1s 99us/step - loss: 0.3962 - acc: 0.8356\n",
      "Epoch 48/100\n",
      "8000/8000 [==============================] - 1s 95us/step - loss: 0.3963 - acc: 0.8355\n",
      "Epoch 49/100\n",
      "8000/8000 [==============================] - 1s 109us/step - loss: 0.3959 - acc: 0.8360\n",
      "Epoch 50/100\n",
      "8000/8000 [==============================] - 1s 105us/step - loss: 0.3953 - acc: 0.8352\n",
      "Epoch 51/100\n",
      "8000/8000 [==============================] - 1s 105us/step - loss: 0.3954 - acc: 0.8356\n",
      "Epoch 52/100\n",
      "8000/8000 [==============================] - 1s 101us/step - loss: 0.3957 - acc: 0.8364\n",
      "Epoch 53/100\n",
      "8000/8000 [==============================] - 1s 95us/step - loss: 0.3954 - acc: 0.8355\n",
      "Epoch 54/100\n",
      "8000/8000 [==============================] - 1s 96us/step - loss: 0.3957 - acc: 0.8345\n",
      "Epoch 55/100\n",
      "8000/8000 [==============================] - 1s 108us/step - loss: 0.3956 - acc: 0.8372\n",
      "Epoch 56/100\n",
      "8000/8000 [==============================] - 1s 109us/step - loss: 0.3952 - acc: 0.8351\n",
      "Epoch 57/100\n",
      "8000/8000 [==============================] - 1s 100us/step - loss: 0.3956 - acc: 0.8356\n",
      "Epoch 58/100\n",
      "8000/8000 [==============================] - 1s 99us/step - loss: 0.3946 - acc: 0.8341\n",
      "Epoch 59/100\n",
      "8000/8000 [==============================] - 1s 100us/step - loss: 0.3953 - acc: 0.8364\n",
      "Epoch 60/100\n",
      "8000/8000 [==============================] - 1s 106us/step - loss: 0.3949 - acc: 0.8359\n",
      "Epoch 61/100\n",
      "8000/8000 [==============================] - 1s 106us/step - loss: 0.3952 - acc: 0.8361\n",
      "Epoch 62/100\n",
      "8000/8000 [==============================] - 1s 117us/step - loss: 0.3944 - acc: 0.8366\n",
      "Epoch 63/100\n",
      "8000/8000 [==============================] - 1s 109us/step - loss: 0.3945 - acc: 0.8342\n",
      "Epoch 64/100\n",
      "8000/8000 [==============================] - 1s 103us/step - loss: 0.3950 - acc: 0.8352\n",
      "Epoch 65/100\n",
      "8000/8000 [==============================] - 1s 112us/step - loss: 0.3945 - acc: 0.8366\n",
      "Epoch 66/100\n",
      "8000/8000 [==============================] - 1s 107us/step - loss: 0.3945 - acc: 0.8367\n",
      "Epoch 67/100\n",
      "8000/8000 [==============================] - 1s 99us/step - loss: 0.3943 - acc: 0.8352\n",
      "Epoch 68/100\n",
      "8000/8000 [==============================] - 1s 100us/step - loss: 0.3939 - acc: 0.8357\n",
      "Epoch 69/100\n",
      "8000/8000 [==============================] - 1s 98us/step - loss: 0.3941 - acc: 0.8366\n",
      "Epoch 70/100\n",
      "8000/8000 [==============================] - 1s 102us/step - loss: 0.3934 - acc: 0.8370\n",
      "Epoch 71/100\n",
      "8000/8000 [==============================] - 1s 103us/step - loss: 0.3933 - acc: 0.8361\n",
      "Epoch 72/100\n",
      "8000/8000 [==============================] - 1s 106us/step - loss: 0.3919 - acc: 0.8377\n",
      "Epoch 73/100\n",
      "8000/8000 [==============================] - 1s 103us/step - loss: 0.3907 - acc: 0.8405\n",
      "Epoch 74/100\n",
      "8000/8000 [==============================] - 1s 107us/step - loss: 0.3890 - acc: 0.8400\n",
      "Epoch 75/100\n",
      "8000/8000 [==============================] - 1s 102us/step - loss: 0.3860 - acc: 0.8420\n",
      "Epoch 76/100\n",
      "8000/8000 [==============================] - 1s 114us/step - loss: 0.3820 - acc: 0.8444\n",
      "Epoch 77/100\n",
      "8000/8000 [==============================] - 1s 113us/step - loss: 0.3782 - acc: 0.8430\n",
      "Epoch 78/100\n",
      "8000/8000 [==============================] - 1s 111us/step - loss: 0.3729 - acc: 0.8470\n",
      "Epoch 79/100\n",
      "8000/8000 [==============================] - 1s 105us/step - loss: 0.3670 - acc: 0.8475\n",
      "Epoch 80/100\n",
      "8000/8000 [==============================] - 1s 115us/step - loss: 0.3611 - acc: 0.8505\n",
      "Epoch 81/100\n",
      "8000/8000 [==============================] - 1s 111us/step - loss: 0.3573 - acc: 0.8517\n",
      "Epoch 82/100\n"
     ]
    },
    {
     "name": "stdout",
     "output_type": "stream",
     "text": [
      "8000/8000 [==============================] - 1s 95us/step - loss: 0.3548 - acc: 0.8546\n",
      "Epoch 83/100\n",
      "8000/8000 [==============================] - 1s 98us/step - loss: 0.3523 - acc: 0.8570\n",
      "Epoch 84/100\n",
      "8000/8000 [==============================] - 1s 92us/step - loss: 0.3512 - acc: 0.8551\n",
      "Epoch 85/100\n",
      "8000/8000 [==============================] - 1s 93us/step - loss: 0.3503 - acc: 0.8546\n",
      "Epoch 86/100\n",
      "8000/8000 [==============================] - 1s 92us/step - loss: 0.3502 - acc: 0.8564\n",
      "Epoch 87/100\n",
      "8000/8000 [==============================] - 1s 94us/step - loss: 0.3491 - acc: 0.8551\n",
      "Epoch 88/100\n",
      "8000/8000 [==============================] - 1s 95us/step - loss: 0.3482 - acc: 0.8561\n",
      "Epoch 89/100\n",
      "8000/8000 [==============================] - 1s 94us/step - loss: 0.3480 - acc: 0.8585\n",
      "Epoch 90/100\n",
      "8000/8000 [==============================] - 1s 93us/step - loss: 0.3480 - acc: 0.8542\n",
      "Epoch 91/100\n",
      "8000/8000 [==============================] - 1s 99us/step - loss: 0.3470 - acc: 0.8585\n",
      "Epoch 92/100\n",
      "8000/8000 [==============================] - 1s 94us/step - loss: 0.3476 - acc: 0.8554\n",
      "Epoch 93/100\n",
      "8000/8000 [==============================] - 1s 100us/step - loss: 0.3464 - acc: 0.8574\n",
      "Epoch 94/100\n",
      "8000/8000 [==============================] - 1s 94us/step - loss: 0.3463 - acc: 0.8587\n",
      "Epoch 95/100\n",
      "8000/8000 [==============================] - 1s 99us/step - loss: 0.3466 - acc: 0.8569\n",
      "Epoch 96/100\n",
      "8000/8000 [==============================] - 1s 93us/step - loss: 0.3461 - acc: 0.8592\n",
      "Epoch 97/100\n",
      "8000/8000 [==============================] - 1s 93us/step - loss: 0.3458 - acc: 0.8590\n",
      "Epoch 98/100\n",
      "8000/8000 [==============================] - 1s 94us/step - loss: 0.3458 - acc: 0.8586\n",
      "Epoch 99/100\n",
      "8000/8000 [==============================] - 1s 94us/step - loss: 0.3457 - acc: 0.8591\n",
      "Epoch 100/100\n",
      "8000/8000 [==============================] - 1s 93us/step - loss: 0.3455 - acc: 0.8589\n"
     ]
    },
    {
     "data": {
      "text/plain": [
       "<keras.callbacks.History at 0x7f5e72476320>"
      ]
     },
     "execution_count": 16,
     "metadata": {},
     "output_type": "execute_result"
    }
   ],
   "source": [
    "classifier.fit(X_train, y_train, batch_size=10, epochs=100)"
   ]
  },
  {
   "cell_type": "markdown",
   "metadata": {
    "heading_collapsed": true
   },
   "source": [
    "# Predicting Outcome"
   ]
  },
  {
   "cell_type": "markdown",
   "metadata": {
    "heading_collapsed": true,
    "hidden": true
   },
   "source": [
    "## Predictions"
   ]
  },
  {
   "cell_type": "code",
   "execution_count": 17,
   "metadata": {
    "ExecuteTime": {
     "end_time": "2019-01-17T08:08:33.741357Z",
     "start_time": "2019-01-17T08:08:33.687075Z"
    },
    "hidden": true
   },
   "outputs": [],
   "source": [
    "y_pred = classifier.predict(X_test)"
   ]
  },
  {
   "cell_type": "code",
   "execution_count": null,
   "metadata": {
    "ExecuteTime": {
     "end_time": "2019-01-17T08:08:37.641119Z",
     "start_time": "2019-01-17T08:08:37.627743Z"
    },
    "hidden": true
   },
   "outputs": [],
   "source": [
    "y_pred"
   ]
  },
  {
   "cell_type": "code",
   "execution_count": 19,
   "metadata": {
    "ExecuteTime": {
     "end_time": "2019-01-17T08:10:43.721281Z",
     "start_time": "2019-01-17T08:10:43.711775Z"
    },
    "hidden": true
   },
   "outputs": [],
   "source": [
    "y_pred = (y_pred>0.5)"
   ]
  },
  {
   "cell_type": "code",
   "execution_count": null,
   "metadata": {
    "ExecuteTime": {
     "end_time": "2019-01-17T08:10:46.955658Z",
     "start_time": "2019-01-17T08:10:46.943796Z"
    },
    "hidden": true
   },
   "outputs": [],
   "source": [
    "y_pred"
   ]
  },
  {
   "cell_type": "markdown",
   "metadata": {
    "heading_collapsed": true,
    "hidden": true
   },
   "source": [
    "## Accuracy"
   ]
  },
  {
   "cell_type": "code",
   "execution_count": 23,
   "metadata": {
    "ExecuteTime": {
     "end_time": "2019-01-17T08:14:11.477422Z",
     "start_time": "2019-01-17T08:14:11.459881Z"
    },
    "hidden": true
   },
   "outputs": [],
   "source": [
    "from sklearn.metrics import confusion_matrix\n",
    "cm = confusion_matrix(y_test, y_pred)"
   ]
  },
  {
   "cell_type": "code",
   "execution_count": 24,
   "metadata": {
    "ExecuteTime": {
     "end_time": "2019-01-17T08:14:14.930104Z",
     "start_time": "2019-01-17T08:14:14.916265Z"
    },
    "hidden": true
   },
   "outputs": [
    {
     "data": {
      "text/plain": [
       "array([[1523,   72],\n",
       "       [ 201,  204]])"
      ]
     },
     "execution_count": 24,
     "metadata": {},
     "output_type": "execute_result"
    }
   ],
   "source": [
    "cm"
   ]
  },
  {
   "cell_type": "code",
   "execution_count": 26,
   "metadata": {
    "ExecuteTime": {
     "end_time": "2019-01-17T08:19:28.082012Z",
     "start_time": "2019-01-17T08:19:28.077725Z"
    },
    "hidden": true
   },
   "outputs": [],
   "source": [
    "from sklearn.metrics import accuracy_score as acc\n",
    "accuracy = acc(y_test,y_pred)"
   ]
  },
  {
   "cell_type": "code",
   "execution_count": 27,
   "metadata": {
    "ExecuteTime": {
     "end_time": "2019-01-17T08:19:32.418112Z",
     "start_time": "2019-01-17T08:19:32.409575Z"
    },
    "hidden": true
   },
   "outputs": [
    {
     "data": {
      "text/plain": [
       "0.8635"
      ]
     },
     "execution_count": 27,
     "metadata": {},
     "output_type": "execute_result"
    }
   ],
   "source": [
    "accuracy"
   ]
  }
 ],
 "metadata": {
  "celltoolbar": "Initialization Cell",
  "kernelspec": {
   "display_name": "DeepLearning",
   "language": "python",
   "name": "deeplearning"
  },
  "language_info": {
   "codemirror_mode": {
    "name": "ipython",
    "version": 3
   },
   "file_extension": ".py",
   "mimetype": "text/x-python",
   "name": "python",
   "nbconvert_exporter": "python",
   "pygments_lexer": "ipython3",
   "version": "3.6.7"
  },
  "varInspector": {
   "cols": {
    "lenName": 16,
    "lenType": 16,
    "lenVar": 40
   },
   "kernels_config": {
    "python": {
     "delete_cmd_postfix": "",
     "delete_cmd_prefix": "del ",
     "library": "var_list.py",
     "varRefreshCmd": "print(var_dic_list())"
    },
    "r": {
     "delete_cmd_postfix": ") ",
     "delete_cmd_prefix": "rm(",
     "library": "var_list.r",
     "varRefreshCmd": "cat(var_dic_list()) "
    }
   },
   "types_to_exclude": [
    "module",
    "function",
    "builtin_function_or_method",
    "instance",
    "_Feature"
   ],
   "window_display": false
  }
 },
 "nbformat": 4,
 "nbformat_minor": 2
}
